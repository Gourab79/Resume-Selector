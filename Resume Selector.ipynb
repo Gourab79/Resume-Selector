{
 "cells": [
  {
   "cell_type": "code",
   "execution_count": 14,
   "id": "a6a872b3",
   "metadata": {
    "ExecuteTime": {
     "end_time": "2024-05-25T07:08:07.099143Z",
     "start_time": "2024-05-25T07:08:06.844642Z"
    }
   },
   "outputs": [
    {
     "name": "stderr",
     "output_type": "stream",
     "text": [
      "incorrect startxref pointer(1)\n"
     ]
    },
    {
     "name": "stdout",
     "output_type": "stream",
     "text": [
      "Top 20 Resumes:\n",
      "1. Naveen_HR_resume1.pdf (Cosine Similarity: 0.5985)\n",
      "2. Sangeetha Arokia_Resume_HR.pdf (Cosine Similarity: 0.5957)\n",
      "3. 8c3aef86b62d66daa47dd44a6c2adb0c_Resume Ankita-2.pdf (Cosine Similarity: 0.5942)\n",
      "4. Tejus_MM_Resume_Updated.pdf (Cosine Similarity: 0.5753)\n",
      "5. Janarthanan HR CV.pdf (Cosine Similarity: 0.5523)\n",
      "6. latham.r_30Apr_3 Aj new.pdf (Cosine Similarity: 0.5428)\n",
      "7. PRANJAL_s Resume (2).pdf (Cosine Similarity: 0.5349)\n",
      "8. Souhrid_CV.pdf (Cosine Similarity: 0.4955)\n",
      "9. Pranalli CV.pdf (Cosine Similarity: 0.4954)\n",
      "10. Pawan Singh Basera - Resume.pdf (Cosine Similarity: 0.4696)\n",
      "11. Resume - Arminder Singh ..pdf (Cosine Similarity: 0.4692)\n",
      "12. GarimaSekhsaria_CV.pdf (Cosine Similarity: 0.4463)\n",
      "13. Deve S M_resume_updated.pdf (Cosine Similarity: 0.4409)\n",
      "14. N Nivetha HR Executive.pdf (Cosine Similarity: 0.4406)\n",
      "15. Siddhi.Nirmal.Resume.pdf (Cosine Similarity: 0.3821)\n",
      "16. HR-UMADEVI.pdf (Cosine Similarity: 0.3805)\n",
      "17. ResumeHR_1 (1).pdf (Cosine Similarity: 0.3764)\n",
      "18. CV_2024031523181116.pdf (Cosine Similarity: 0.3610)\n",
      "19. Resume Sumaiya banu.pdf (Cosine Similarity: 0.3557)\n",
      "20. SIBI_M_S.pdf (Cosine Similarity: 0.3537)\n"
     ]
    }
   ],
   "source": [
    "# Model 1 \n",
    "import os\n",
    "import pandas as pd\n",
    "import PyPDF2 as pdf\n",
    "from sklearn.feature_extraction.text import TfidfVectorizer\n",
    "from sklearn.metrics.pairwise import cosine_similarity\n",
    "from nltk.tokenize import word_tokenize\n",
    "import re\n",
    "def extract_text_from_pdf(pdf_path):\n",
    "    try:\n",
    "        pdf_reader = pdf.PdfReader(pdf_path)\n",
    "        return pdf_reader.pages[0].extract_text()\n",
    "    except Exception as e:\n",
    "        print(f\"Error extracting text from {pdf_path}: {e}\")\n",
    "        return \"\"\n",
    "\n",
    "def remove_noise(text, stop_words = []):    \n",
    "    tokens = word_tokenize(text)    \n",
    "    cleaned_tokens = []    \n",
    "    for token in tokens:        \n",
    "        token = re.sub('[^A-Za-z0-9]+', '', token)        \n",
    "        if len(token) > 1 and token.lower() not in stop_words:\n",
    "           cleaned_tokens.append(token.lower())\n",
    "           \n",
    "    \n",
    "    return cleaned_tokens\n",
    "    \n",
    "def calculate_cosine_similarity(cleaned_tokens, pdf_text):\n",
    "    vectorizer = TfidfVectorizer()\n",
    "    tfidf_matrix = vectorizer.fit_transform([given_text, pdf_text])\n",
    "    return cosine_similarity(tfidf_matrix[0], tfidf_matrix[1])[0][0]\n",
    "\n",
    "def main(folder_path, given_text):\n",
    "    pdf_files = [f for f in os.listdir(folder_path) if f.lower().endswith(\".pdf\")]\n",
    "\n",
    "    # Initialize a dictionary to store cosine similarity scores\n",
    "    similarity_scores = {}\n",
    "\n",
    "    for pdf_file in pdf_files:\n",
    "        pdf_path = os.path.join(folder_path, pdf_file)\n",
    "        pdf_text = extract_text_from_pdf(pdf_path)\n",
    "        similarity = calculate_cosine_similarity(given_text, pdf_text)\n",
    "        similarity_scores[pdf_file] = similarity\n",
    "\n",
    "    # Sort the scores in descending order\n",
    "    sorted_scores = sorted(similarity_scores.items(), key=lambda x: x[1], reverse=True)\n",
    "\n",
    "    # Print the top 20 matches\n",
    "    print(\"Top 20 Resumes:\")\n",
    "    for i, (resume, score) in enumerate(sorted_scores[:20], start=1):\n",
    "        print(f\"{i}. {resume} (Cosine Similarity: {score:.4f})\")\n",
    "\n",
    "if __name__ == \"__main__\":\n",
    "    folder_path = \"C:/Users/chakr/OneDrive/Desktop/resumes\"\n",
    "    given_text =  \"\"\"HR Support:\n",
    "HR Support:\n",
    "\n",
    "Facilitate the recruitment process by posting job openings, screening resumes, and scheduling interviews.\n",
    "Assist in onboarding activities for new hires, including preparing documentation and conducting orientation sessions.\n",
    "Maintain employee records and ensure compliance with company policies and procedures.\n",
    "Aid in organizing training sessions and workshops for staff development.\n",
    "Support HR Manager in various administrative tasks as needed.\n",
    "\n",
    "Operations Assistance:\n",
    "\n",
    "Support the implementation of operational processes and procedures to enhance efficiency.\n",
    "Provide general administrative support to ensure smooth daily operations.\n",
    "\n",
    "Research and Documentation:\n",
    "Conduct research on various topics as assigned by the team, compiling information and presenting findings.\n",
    "Assist in the creation and maintenance of documentation, including employee manuals, standard operating procedures, and project reports.\n",
    "Ensure accuracy and completeness of all documentation and reports produced.\n",
    "Requirements\n",
    "Strong organizational and time-management skills.\n",
    "Excellent communication and interpersonal abilities.\n",
    "Proficiency in MS Office Suite and other relevant software applications.\n",
    "Ability to work independently with minimal supervision.\n",
    "Attention to detail and ability to multitask effectively.\n",
    "Flexibility to adapt to changing priorities in a fast-paced environment.\n",
    "\"\"\"\n",
    "    main(folder_path, given_text)\n",
    "    \n"
   ]
  }
 ],
 "metadata": {
  "kernelspec": {
   "display_name": "Python 3 (ipykernel)",
   "language": "python",
   "name": "python3"
  },
  "language_info": {
   "codemirror_mode": {
    "name": "ipython",
    "version": 3
   },
   "file_extension": ".py",
   "mimetype": "text/x-python",
   "name": "python",
   "nbconvert_exporter": "python",
   "pygments_lexer": "ipython3",
   "version": "3.11.5"
  }
 },
 "nbformat": 4,
 "nbformat_minor": 5
}
